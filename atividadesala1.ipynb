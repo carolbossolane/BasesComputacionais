{
  "nbformat": 4,
  "nbformat_minor": 0,
  "metadata": {
    "colab": {
      "provenance": [],
      "toc_visible": true,
      "authorship_tag": "ABX9TyNJc919+MMIYNMCHjuh0fGi",
      "include_colab_link": true
    },
    "kernelspec": {
      "name": "python3",
      "display_name": "Python 3"
    },
    "language_info": {
      "name": "python"
    }
  },
  "cells": [
    {
      "cell_type": "markdown",
      "metadata": {
        "id": "view-in-github",
        "colab_type": "text"
      },
      "source": [
        "<a href=\"https://colab.research.google.com/github/carolbossolane/BasesComputacionais/blob/master/atividadesala1.ipynb\" target=\"_parent\"><img src=\"https://colab.research.google.com/assets/colab-badge.svg\" alt=\"Open In Colab\"/></a>"
      ]
    },
    {
      "cell_type": "markdown",
      "source": [
        "Carolina Bossolane Carvalho"
      ],
      "metadata": {
        "id": "xvrwlLytfbYi"
      }
    },
    {
      "cell_type": "code",
      "source": [
        "#formula: h*3600 + m*60\n",
        "h= 3600\n",
        "m= 60 \n",
        "a= 1*h + 30*m\n",
        "b= 12*h\n",
        "c= 24*h\n",
        "\n",
        "print('1)',a)\n",
        "print('2)',b)\n",
        "print('3)',c)"
      ],
      "metadata": {
        "colab": {
          "base_uri": "https://localhost:8080/"
        },
        "id": "JVoeKRrBf6VM",
        "outputId": "624f0d2d-267a-4eca-bf94-d3c750dc1d65"
      },
      "execution_count": 1,
      "outputs": [
        {
          "output_type": "stream",
          "name": "stdout",
          "text": [
            "1) 5400\n",
            "2) 43200\n",
            "3) 86400\n"
          ]
        }
      ]
    }
  ]
}