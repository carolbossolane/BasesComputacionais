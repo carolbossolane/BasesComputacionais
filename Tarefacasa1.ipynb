{
  "nbformat": 4,
  "nbformat_minor": 0,
  "metadata": {
    "colab": {
      "provenance": [],
      "authorship_tag": "ABX9TyMsjPRXKId1oxbZWayN3vdh",
      "include_colab_link": true
    },
    "kernelspec": {
      "name": "python3",
      "display_name": "Python 3"
    },
    "language_info": {
      "name": "python"
    }
  },
  "cells": [
    {
      "cell_type": "markdown",
      "metadata": {
        "id": "view-in-github",
        "colab_type": "text"
      },
      "source": [
        "<a href=\"https://colab.research.google.com/github/carolbossolane/BasesComputacionais/blob/master/Tarefacasa1.ipynb\" target=\"_parent\"><img src=\"https://colab.research.google.com/assets/colab-badge.svg\" alt=\"Open In Colab\"/></a>"
      ]
    },
    {
      "cell_type": "markdown",
      "source": [
        "Carolina Bossolane Carvalho "
      ],
      "metadata": {
        "id": "NAGTmiy2Yhqg"
      }
    },
    {
      "cell_type": "code",
      "source": [
        "#Exercício 3 \n",
        "\n",
        "#formula utilizada: Cx = np.sqrt(a**2 + b**2 - 2*a*b*np.cos(θ))\n",
        "\n",
        "import numpy as np \n",
        "a = np.sqrt((1**2 + 2**2 - 2*1*2*np.cos(30)))\n",
        "b = np.sqrt((3**2 + 1**2 - 2*3*1*np.cos(40)))\n",
        "a = np.sqrt((10**2 + 11**2 - 2*10*11*np.cos(15)))\n",
        "\n",
        "print('a) {:.2f}'.format(a))\n",
        "print('b) {:.2f}'.format(b))\n",
        "print('c) {:.2f}'.format(c))"
      ],
      "metadata": {
        "colab": {
          "base_uri": "https://localhost:8080/"
        },
        "id": "GDR1XaoZdon5",
        "outputId": "a392707f-8fbe-4d56-f4c3-01071d6d056c"
      },
      "execution_count": 15,
      "outputs": [
        {
          "output_type": "stream",
          "name": "stdout",
          "text": [
            "a) 19.70\n",
            "b) 3.74\n",
            "c) 41.00\n"
          ]
        }
      ]
    },
    {
      "cell_type": "code",
      "source": [
        "#Exercício 2\n",
        "\n",
        "#formula utilizada: \n",
        "a = (9*(-10) + 160) / 5\n",
        "b = (9*30 + 160) / 5 \n",
        "c = (9*5 + 160) / 5 \n",
        "\n",
        "print('a) {:.1f}°F'.format(a))\n",
        "print('b) {:.1f}°F'.format(b))\n",
        "print('c) {:.1f}°F'.format(c))\n"
      ],
      "metadata": {
        "colab": {
          "base_uri": "https://localhost:8080/"
        },
        "id": "6xAkDANjb1Hn",
        "outputId": "9d0afef7-5e82-4b12-c9df-821d02f812ed"
      },
      "execution_count": 8,
      "outputs": [
        {
          "output_type": "stream",
          "name": "stdout",
          "text": [
            "a) 14.0°F\n",
            "b) 86.0°F\n",
            "c) 41.0°F\n"
          ]
        }
      ]
    },
    {
      "cell_type": "code",
      "source": [
        "#Exercício 1 \n",
        "#formula utilizada: V = 4/3 * np.pi*r**3\n",
        "\n",
        "import numpy as np\n",
        "a = 4/3*np.pi*0.32**3\n",
        "b = 4/3*np.pi*1**3\n",
        "c = 4/3*np.pi*1.9**3\n",
        "\n",
        "print('a) {:.2f}m³'.format(a))\n",
        "print('b) {:.2f}m³'.format(b))\n",
        "print('c) {:.2f}m³'.format(c))\n",
        "\n"
      ],
      "metadata": {
        "colab": {
          "base_uri": "https://localhost:8080/"
        },
        "id": "t-2e3BKZYlFG",
        "outputId": "f976e933-794b-490b-fc2d-91250f167ef8"
      },
      "execution_count": 6,
      "outputs": [
        {
          "output_type": "stream",
          "name": "stdout",
          "text": [
            "a) 0.14m³\n",
            "b) 4.19m³\n",
            "c) 28.73m³\n"
          ]
        }
      ]
    },
    {
      "cell_type": "code",
      "source": [
        "#Exercício 4 \n",
        "\n",
        "#formula utilizada: Fi = (((1 + np.sqrt(5))/2)**1 - ((1 - np.sqrt(5))/2)**1)/np.sqrt(5)\n",
        "\n",
        "import numpy as np\n",
        "\n",
        "a = ((((1 + np.sqrt(5))/2)**30 - ((1 - np.sqrt(5))/2)**30)/np.sqrt(5))\n",
        "a = ((((1 + np.sqrt(5))/2)**31 - ((1 - np.sqrt(5))/2)**31)/np.sqrt(5))\n",
        "a = ((((1 + np.sqrt(5))/2)**32 - ((1 - np.sqrt(5))/2)**32)/np.sqrt(5))\n",
        "\n",
        "print('a) 0 30° número é {:.0f}'.format(a))\n",
        "print('b) 0 31° número é {:.0f}'.format(b))\n",
        "print('c) 0 32° número é {:.0f}'.format(c))"
      ],
      "metadata": {
        "colab": {
          "base_uri": "https://localhost:8080/"
        },
        "id": "cxbFeNxwgYpj",
        "outputId": "dff0b199-91e4-43cc-d111-da38ee8fe977"
      },
      "execution_count": 16,
      "outputs": [
        {
          "output_type": "stream",
          "name": "stdout",
          "text": [
            "a) 0 30° número é 2178309\n",
            "b) 0 31° número é 4\n",
            "c) 0 32° número é 41\n"
          ]
        }
      ]
    }
  ]
}